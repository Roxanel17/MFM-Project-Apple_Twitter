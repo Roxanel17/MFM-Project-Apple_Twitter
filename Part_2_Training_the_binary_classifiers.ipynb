{
 "cells": [
  {
   "cell_type": "markdown",
   "metadata": {},
   "source": [
    "## Downloading and combining all data, applying algorithms for predictions"
   ]
  },
  {
   "cell_type": "code",
   "execution_count": 148,
   "metadata": {},
   "outputs": [
    {
     "name": "stdout",
     "output_type": "stream",
     "text": [
      "Collecting pydotplus\n",
      "  Downloading pydotplus-2.0.2.tar.gz (278 kB)\n",
      "\u001b[2K     \u001b[90m━━━━━━━━━━━━━━━━━━━━━━━━━━━━━━━━━━━━━━━\u001b[0m \u001b[32m278.7/278.7 kB\u001b[0m \u001b[31m2.0 MB/s\u001b[0m eta \u001b[36m0:00:00\u001b[0m00:01\u001b[0m00:01\u001b[0m\n",
      "\u001b[?25h  Preparing metadata (setup.py) ... \u001b[?25ldone\n",
      "\u001b[?25hRequirement already satisfied: pyparsing>=2.0.1 in /opt/anaconda3/lib/python3.9/site-packages (from pydotplus) (3.0.9)\n",
      "Building wheels for collected packages: pydotplus\n",
      "  Building wheel for pydotplus (setup.py) ... \u001b[?25ldone\n",
      "\u001b[?25h  Created wheel for pydotplus: filename=pydotplus-2.0.2-py3-none-any.whl size=24554 sha256=5ff8594cc94ad84f75ad585a0dd457631e27bf688424ffeacfb8085b2a1695cd\n",
      "  Stored in directory: /Users/mihaela/Library/Caches/pip/wheels/89/e5/de/6966007cf223872eedfbebbe0e074534e72e9128c8fd4b55eb\n",
      "Successfully built pydotplus\n",
      "Installing collected packages: pydotplus\n",
      "Successfully installed pydotplus-2.0.2\n"
     ]
    }
   ],
   "source": [
    "# !pip3 install pydotplus"
   ]
  },
  {
   "cell_type": "code",
   "execution_count": 151,
   "metadata": {},
   "outputs": [
    {
     "name": "stdout",
     "output_type": "stream",
     "text": [
      "Collecting graphviz\n",
      "  Downloading graphviz-0.20.1-py3-none-any.whl (47 kB)\n",
      "\u001b[2K     \u001b[90m━━━━━━━━━━━━━━━━━━━━━━━━━━━━━━━━━━━━━━━\u001b[0m \u001b[32m47.0/47.0 kB\u001b[0m \u001b[31m642.0 kB/s\u001b[0m eta \u001b[36m0:00:00\u001b[0m \u001b[36m0:00:01\u001b[0m\n",
      "\u001b[?25hInstalling collected packages: graphviz\n",
      "Successfully installed graphviz-0.20.1\n"
     ]
    }
   ],
   "source": [
    "# !pip3 install graphviz"
   ]
  },
  {
   "cell_type": "code",
   "execution_count": 149,
   "metadata": {},
   "outputs": [],
   "source": [
    "%matplotlib inline\n",
    "import matplotlib as mpl\n",
    "import matplotlib.pyplot as plt\n",
    "import numpy as np\n",
    "import pandas as pd\n",
    "import seaborn as sns\n",
    "import os\n",
    "from sklearn.model_selection import train_test_split\n",
    "from sklearn.neighbors import KNeighborsClassifier\n",
    "from sklearn.linear_model import LogisticRegression\n",
    "from sklearn.svm import SVC\n",
    "from sklearn.naive_bayes import MultinomialNB\n",
    "from sklearn.preprocessing import MinMaxScaler\n",
    "from sklearn import tree\n",
    "import pydotplus\n",
    "from six import StringIO  \n",
    "from IPython.display import Image\n",
    "from sklearn.ensemble import RandomForestClassifier \n",
    "from sklearn.model_selection import cross_val_score\n",
    "import xlsxwriter\n",
    "import os"
   ]
  },
  {
   "cell_type": "markdown",
   "metadata": {},
   "source": [
    "### Read data"
   ]
  },
  {
   "cell_type": "code",
   "execution_count": 162,
   "metadata": {},
   "outputs": [],
   "source": [
    "prices = pd.read_csv(\"prices.csv\")\n",
    "sentiment = pd.read_excel(\"Sentiment_Analysis_tweets.xls\")"
   ]
  },
  {
   "cell_type": "code",
   "execution_count": 163,
   "metadata": {},
   "outputs": [
    {
     "data": {
      "text/html": [
       "<div>\n",
       "<style scoped>\n",
       "    .dataframe tbody tr th:only-of-type {\n",
       "        vertical-align: middle;\n",
       "    }\n",
       "\n",
       "    .dataframe tbody tr th {\n",
       "        vertical-align: top;\n",
       "    }\n",
       "\n",
       "    .dataframe thead th {\n",
       "        text-align: right;\n",
       "    }\n",
       "</style>\n",
       "<table border=\"1\" class=\"dataframe\">\n",
       "  <thead>\n",
       "    <tr style=\"text-align: right;\">\n",
       "      <th></th>\n",
       "      <th>Date</th>\n",
       "      <th>Open</th>\n",
       "      <th>High</th>\n",
       "      <th>Low</th>\n",
       "      <th>Close</th>\n",
       "      <th>Adj Close</th>\n",
       "      <th>Volume</th>\n",
       "      <th>log_return</th>\n",
       "      <th>buy/sell</th>\n",
       "    </tr>\n",
       "  </thead>\n",
       "  <tbody>\n",
       "    <tr>\n",
       "      <th>0</th>\n",
       "      <td>2011-08-02</td>\n",
       "      <td>14.201786</td>\n",
       "      <td>14.210714</td>\n",
       "      <td>13.869643</td>\n",
       "      <td>13.889643</td>\n",
       "      <td>11.839780</td>\n",
       "      <td>639539600</td>\n",
       "      <td>-0.019958</td>\n",
       "      <td>1</td>\n",
       "    </tr>\n",
       "    <tr>\n",
       "      <th>1</th>\n",
       "      <td>2011-08-03</td>\n",
       "      <td>13.963571</td>\n",
       "      <td>14.055357</td>\n",
       "      <td>13.651429</td>\n",
       "      <td>14.020357</td>\n",
       "      <td>11.951200</td>\n",
       "      <td>732508000</td>\n",
       "      <td>0.009367</td>\n",
       "      <td>-1</td>\n",
       "    </tr>\n",
       "    <tr>\n",
       "      <th>2</th>\n",
       "      <td>2011-08-04</td>\n",
       "      <td>13.907500</td>\n",
       "      <td>13.975714</td>\n",
       "      <td>13.476786</td>\n",
       "      <td>13.477500</td>\n",
       "      <td>11.488463</td>\n",
       "      <td>871407600</td>\n",
       "      <td>-0.039489</td>\n",
       "      <td>-1</td>\n",
       "    </tr>\n",
       "    <tr>\n",
       "      <th>3</th>\n",
       "      <td>2011-08-05</td>\n",
       "      <td>13.587143</td>\n",
       "      <td>13.696429</td>\n",
       "      <td>12.948929</td>\n",
       "      <td>13.343571</td>\n",
       "      <td>11.374298</td>\n",
       "      <td>1204590800</td>\n",
       "      <td>-0.009987</td>\n",
       "      <td>-1</td>\n",
       "    </tr>\n",
       "    <tr>\n",
       "      <th>4</th>\n",
       "      <td>2011-08-08</td>\n",
       "      <td>12.917500</td>\n",
       "      <td>13.134643</td>\n",
       "      <td>12.607857</td>\n",
       "      <td>12.614643</td>\n",
       "      <td>10.752950</td>\n",
       "      <td>1143833600</td>\n",
       "      <td>-0.056176</td>\n",
       "      <td>1</td>\n",
       "    </tr>\n",
       "    <tr>\n",
       "      <th>...</th>\n",
       "      <td>...</td>\n",
       "      <td>...</td>\n",
       "      <td>...</td>\n",
       "      <td>...</td>\n",
       "      <td>...</td>\n",
       "      <td>...</td>\n",
       "      <td>...</td>\n",
       "      <td>...</td>\n",
       "      <td>...</td>\n",
       "    </tr>\n",
       "    <tr>\n",
       "      <th>58</th>\n",
       "      <td>2011-10-24</td>\n",
       "      <td>14.149286</td>\n",
       "      <td>14.517857</td>\n",
       "      <td>14.121429</td>\n",
       "      <td>14.491786</td>\n",
       "      <td>12.353058</td>\n",
       "      <td>502138000</td>\n",
       "      <td>0.032308</td>\n",
       "      <td>-1</td>\n",
       "    </tr>\n",
       "    <tr>\n",
       "      <th>59</th>\n",
       "      <td>2011-10-25</td>\n",
       "      <td>14.465357</td>\n",
       "      <td>14.519643</td>\n",
       "      <td>14.192143</td>\n",
       "      <td>14.206071</td>\n",
       "      <td>12.109508</td>\n",
       "      <td>430427200</td>\n",
       "      <td>-0.019913</td>\n",
       "      <td>1</td>\n",
       "    </tr>\n",
       "    <tr>\n",
       "      <th>60</th>\n",
       "      <td>2011-10-26</td>\n",
       "      <td>14.348571</td>\n",
       "      <td>14.376786</td>\n",
       "      <td>14.041071</td>\n",
       "      <td>14.307143</td>\n",
       "      <td>12.195664</td>\n",
       "      <td>456304800</td>\n",
       "      <td>0.007090</td>\n",
       "      <td>1</td>\n",
       "    </tr>\n",
       "    <tr>\n",
       "      <th>61</th>\n",
       "      <td>2011-10-27</td>\n",
       "      <td>14.555714</td>\n",
       "      <td>14.607143</td>\n",
       "      <td>14.353214</td>\n",
       "      <td>14.453214</td>\n",
       "      <td>12.320178</td>\n",
       "      <td>494664800</td>\n",
       "      <td>0.010158</td>\n",
       "      <td>1</td>\n",
       "    </tr>\n",
       "    <tr>\n",
       "      <th>62</th>\n",
       "      <td>2011-10-28</td>\n",
       "      <td>14.392857</td>\n",
       "      <td>14.512500</td>\n",
       "      <td>14.375357</td>\n",
       "      <td>14.462500</td>\n",
       "      <td>12.328094</td>\n",
       "      <td>322842800</td>\n",
       "      <td>0.000642</td>\n",
       "      <td>-1</td>\n",
       "    </tr>\n",
       "  </tbody>\n",
       "</table>\n",
       "<p>63 rows × 9 columns</p>\n",
       "</div>"
      ],
      "text/plain": [
       "          Date       Open       High        Low      Close  Adj Close  \\\n",
       "0   2011-08-02  14.201786  14.210714  13.869643  13.889643  11.839780   \n",
       "1   2011-08-03  13.963571  14.055357  13.651429  14.020357  11.951200   \n",
       "2   2011-08-04  13.907500  13.975714  13.476786  13.477500  11.488463   \n",
       "3   2011-08-05  13.587143  13.696429  12.948929  13.343571  11.374298   \n",
       "4   2011-08-08  12.917500  13.134643  12.607857  12.614643  10.752950   \n",
       "..         ...        ...        ...        ...        ...        ...   \n",
       "58  2011-10-24  14.149286  14.517857  14.121429  14.491786  12.353058   \n",
       "59  2011-10-25  14.465357  14.519643  14.192143  14.206071  12.109508   \n",
       "60  2011-10-26  14.348571  14.376786  14.041071  14.307143  12.195664   \n",
       "61  2011-10-27  14.555714  14.607143  14.353214  14.453214  12.320178   \n",
       "62  2011-10-28  14.392857  14.512500  14.375357  14.462500  12.328094   \n",
       "\n",
       "        Volume  log_return  buy/sell  \n",
       "0    639539600   -0.019958         1  \n",
       "1    732508000    0.009367        -1  \n",
       "2    871407600   -0.039489        -1  \n",
       "3   1204590800   -0.009987        -1  \n",
       "4   1143833600   -0.056176         1  \n",
       "..         ...         ...       ...  \n",
       "58   502138000    0.032308        -1  \n",
       "59   430427200   -0.019913         1  \n",
       "60   456304800    0.007090         1  \n",
       "61   494664800    0.010158         1  \n",
       "62   322842800    0.000642        -1  \n",
       "\n",
       "[63 rows x 9 columns]"
      ]
     },
     "execution_count": 163,
     "metadata": {},
     "output_type": "execute_result"
    }
   ],
   "source": [
    "prices"
   ]
  },
  {
   "cell_type": "code",
   "execution_count": 164,
   "metadata": {},
   "outputs": [
    {
     "data": {
      "text/html": [
       "<div>\n",
       "<style scoped>\n",
       "    .dataframe tbody tr th:only-of-type {\n",
       "        vertical-align: middle;\n",
       "    }\n",
       "\n",
       "    .dataframe tbody tr th {\n",
       "        vertical-align: top;\n",
       "    }\n",
       "\n",
       "    .dataframe thead th {\n",
       "        text-align: right;\n",
       "    }\n",
       "</style>\n",
       "<table border=\"1\" class=\"dataframe\">\n",
       "  <thead>\n",
       "    <tr style=\"text-align: right;\">\n",
       "      <th></th>\n",
       "      <th>Date</th>\n",
       "      <th>polarity</th>\n",
       "      <th>compound</th>\n",
       "    </tr>\n",
       "  </thead>\n",
       "  <tbody>\n",
       "    <tr>\n",
       "      <th>0</th>\n",
       "      <td>2011-08-01</td>\n",
       "      <td>0.344619</td>\n",
       "      <td>0.143103</td>\n",
       "    </tr>\n",
       "    <tr>\n",
       "      <th>1</th>\n",
       "      <td>2011-08-02</td>\n",
       "      <td>0.119418</td>\n",
       "      <td>0.045527</td>\n",
       "    </tr>\n",
       "    <tr>\n",
       "      <th>2</th>\n",
       "      <td>2011-08-03</td>\n",
       "      <td>0.225355</td>\n",
       "      <td>0.108854</td>\n",
       "    </tr>\n",
       "    <tr>\n",
       "      <th>3</th>\n",
       "      <td>2011-08-04</td>\n",
       "      <td>0.240144</td>\n",
       "      <td>0.098642</td>\n",
       "    </tr>\n",
       "    <tr>\n",
       "      <th>4</th>\n",
       "      <td>2011-08-05</td>\n",
       "      <td>0.508127</td>\n",
       "      <td>0.245211</td>\n",
       "    </tr>\n",
       "    <tr>\n",
       "      <th>...</th>\n",
       "      <td>...</td>\n",
       "      <td>...</td>\n",
       "      <td>...</td>\n",
       "    </tr>\n",
       "    <tr>\n",
       "      <th>86</th>\n",
       "      <td>2011-10-27</td>\n",
       "      <td>-0.653957</td>\n",
       "      <td>-0.532593</td>\n",
       "    </tr>\n",
       "    <tr>\n",
       "      <th>87</th>\n",
       "      <td>2011-10-28</td>\n",
       "      <td>-0.504046</td>\n",
       "      <td>-0.525622</td>\n",
       "    </tr>\n",
       "    <tr>\n",
       "      <th>88</th>\n",
       "      <td>2011-10-29</td>\n",
       "      <td>-0.484224</td>\n",
       "      <td>-0.441613</td>\n",
       "    </tr>\n",
       "    <tr>\n",
       "      <th>89</th>\n",
       "      <td>2011-10-30</td>\n",
       "      <td>-0.527342</td>\n",
       "      <td>-0.345438</td>\n",
       "    </tr>\n",
       "    <tr>\n",
       "      <th>90</th>\n",
       "      <td>2011-10-31</td>\n",
       "      <td>-0.737316</td>\n",
       "      <td>-0.437070</td>\n",
       "    </tr>\n",
       "  </tbody>\n",
       "</table>\n",
       "<p>91 rows × 3 columns</p>\n",
       "</div>"
      ],
      "text/plain": [
       "         Date  polarity  compound\n",
       "0  2011-08-01  0.344619  0.143103\n",
       "1  2011-08-02  0.119418  0.045527\n",
       "2  2011-08-03  0.225355  0.108854\n",
       "3  2011-08-04  0.240144  0.098642\n",
       "4  2011-08-05  0.508127  0.245211\n",
       "..        ...       ...       ...\n",
       "86 2011-10-27 -0.653957 -0.532593\n",
       "87 2011-10-28 -0.504046 -0.525622\n",
       "88 2011-10-29 -0.484224 -0.441613\n",
       "89 2011-10-30 -0.527342 -0.345438\n",
       "90 2011-10-31 -0.737316 -0.437070\n",
       "\n",
       "[91 rows x 3 columns]"
      ]
     },
     "execution_count": 164,
     "metadata": {},
     "output_type": "execute_result"
    }
   ],
   "source": [
    "sentiment"
   ]
  },
  {
   "cell_type": "code",
   "execution_count": 165,
   "metadata": {},
   "outputs": [],
   "source": [
    "# sentiment['Date'] = sentiment['Date'].str.replace('.', '-')\n",
    "prices['Date'] = pd.to_datetime(prices['Date'])\n",
    "# sentiment['Date'] = sentiment['Date'].dt.strftime('%Y-%m-%d')"
   ]
  },
  {
   "cell_type": "code",
   "execution_count": 166,
   "metadata": {},
   "outputs": [
    {
     "name": "stdout",
     "output_type": "stream",
     "text": [
      "<class 'pandas.core.frame.DataFrame'>\n",
      "RangeIndex: 63 entries, 0 to 62\n",
      "Data columns (total 9 columns):\n",
      " #   Column      Non-Null Count  Dtype         \n",
      "---  ------      --------------  -----         \n",
      " 0   Date        63 non-null     datetime64[ns]\n",
      " 1   Open        63 non-null     float64       \n",
      " 2   High        63 non-null     float64       \n",
      " 3   Low         63 non-null     float64       \n",
      " 4   Close       63 non-null     float64       \n",
      " 5   Adj Close   63 non-null     float64       \n",
      " 6   Volume      63 non-null     int64         \n",
      " 7   log_return  63 non-null     float64       \n",
      " 8   buy/sell    63 non-null     int64         \n",
      "dtypes: datetime64[ns](1), float64(6), int64(2)\n",
      "memory usage: 4.6 KB\n"
     ]
    }
   ],
   "source": [
    "prices.info()"
   ]
  },
  {
   "cell_type": "code",
   "execution_count": 167,
   "metadata": {},
   "outputs": [
    {
     "name": "stdout",
     "output_type": "stream",
     "text": [
      "<class 'pandas.core.frame.DataFrame'>\n",
      "RangeIndex: 91 entries, 0 to 90\n",
      "Data columns (total 3 columns):\n",
      " #   Column    Non-Null Count  Dtype         \n",
      "---  ------    --------------  -----         \n",
      " 0   Date      91 non-null     datetime64[ns]\n",
      " 1   polarity  91 non-null     float64       \n",
      " 2   compound  91 non-null     float64       \n",
      "dtypes: datetime64[ns](1), float64(2)\n",
      "memory usage: 2.3 KB\n"
     ]
    }
   ],
   "source": [
    "sentiment.info()"
   ]
  },
  {
   "cell_type": "code",
   "execution_count": 168,
   "metadata": {
    "scrolled": true
   },
   "outputs": [
    {
     "data": {
      "text/html": [
       "<div>\n",
       "<style scoped>\n",
       "    .dataframe tbody tr th:only-of-type {\n",
       "        vertical-align: middle;\n",
       "    }\n",
       "\n",
       "    .dataframe tbody tr th {\n",
       "        vertical-align: top;\n",
       "    }\n",
       "\n",
       "    .dataframe thead th {\n",
       "        text-align: right;\n",
       "    }\n",
       "</style>\n",
       "<table border=\"1\" class=\"dataframe\">\n",
       "  <thead>\n",
       "    <tr style=\"text-align: right;\">\n",
       "      <th></th>\n",
       "      <th>Date</th>\n",
       "      <th>polarity</th>\n",
       "      <th>compound</th>\n",
       "      <th>Open</th>\n",
       "      <th>High</th>\n",
       "      <th>Low</th>\n",
       "      <th>Close</th>\n",
       "      <th>Adj Close</th>\n",
       "      <th>Volume</th>\n",
       "      <th>log_return</th>\n",
       "      <th>buy/sell</th>\n",
       "    </tr>\n",
       "  </thead>\n",
       "  <tbody>\n",
       "    <tr>\n",
       "      <th>0</th>\n",
       "      <td>2011-08-02</td>\n",
       "      <td>0.119418</td>\n",
       "      <td>0.045527</td>\n",
       "      <td>14.201786</td>\n",
       "      <td>14.210714</td>\n",
       "      <td>13.869643</td>\n",
       "      <td>13.889643</td>\n",
       "      <td>11.839780</td>\n",
       "      <td>639539600</td>\n",
       "      <td>-0.019958</td>\n",
       "      <td>1</td>\n",
       "    </tr>\n",
       "    <tr>\n",
       "      <th>1</th>\n",
       "      <td>2011-08-03</td>\n",
       "      <td>0.225355</td>\n",
       "      <td>0.108854</td>\n",
       "      <td>13.963571</td>\n",
       "      <td>14.055357</td>\n",
       "      <td>13.651429</td>\n",
       "      <td>14.020357</td>\n",
       "      <td>11.951200</td>\n",
       "      <td>732508000</td>\n",
       "      <td>0.009367</td>\n",
       "      <td>-1</td>\n",
       "    </tr>\n",
       "    <tr>\n",
       "      <th>2</th>\n",
       "      <td>2011-08-04</td>\n",
       "      <td>0.240144</td>\n",
       "      <td>0.098642</td>\n",
       "      <td>13.907500</td>\n",
       "      <td>13.975714</td>\n",
       "      <td>13.476786</td>\n",
       "      <td>13.477500</td>\n",
       "      <td>11.488463</td>\n",
       "      <td>871407600</td>\n",
       "      <td>-0.039489</td>\n",
       "      <td>-1</td>\n",
       "    </tr>\n",
       "    <tr>\n",
       "      <th>3</th>\n",
       "      <td>2011-08-05</td>\n",
       "      <td>0.508127</td>\n",
       "      <td>0.245211</td>\n",
       "      <td>13.587143</td>\n",
       "      <td>13.696429</td>\n",
       "      <td>12.948929</td>\n",
       "      <td>13.343571</td>\n",
       "      <td>11.374298</td>\n",
       "      <td>1204590800</td>\n",
       "      <td>-0.009987</td>\n",
       "      <td>-1</td>\n",
       "    </tr>\n",
       "    <tr>\n",
       "      <th>4</th>\n",
       "      <td>2011-08-08</td>\n",
       "      <td>0.301410</td>\n",
       "      <td>0.106535</td>\n",
       "      <td>12.917500</td>\n",
       "      <td>13.134643</td>\n",
       "      <td>12.607857</td>\n",
       "      <td>12.614643</td>\n",
       "      <td>10.752950</td>\n",
       "      <td>1143833600</td>\n",
       "      <td>-0.056176</td>\n",
       "      <td>1</td>\n",
       "    </tr>\n",
       "    <tr>\n",
       "      <th>...</th>\n",
       "      <td>...</td>\n",
       "      <td>...</td>\n",
       "      <td>...</td>\n",
       "      <td>...</td>\n",
       "      <td>...</td>\n",
       "      <td>...</td>\n",
       "      <td>...</td>\n",
       "      <td>...</td>\n",
       "      <td>...</td>\n",
       "      <td>...</td>\n",
       "      <td>...</td>\n",
       "    </tr>\n",
       "    <tr>\n",
       "      <th>57</th>\n",
       "      <td>2011-10-24</td>\n",
       "      <td>-0.677576</td>\n",
       "      <td>-0.482482</td>\n",
       "      <td>14.149286</td>\n",
       "      <td>14.517857</td>\n",
       "      <td>14.121429</td>\n",
       "      <td>14.491786</td>\n",
       "      <td>12.353058</td>\n",
       "      <td>502138000</td>\n",
       "      <td>0.032308</td>\n",
       "      <td>-1</td>\n",
       "    </tr>\n",
       "    <tr>\n",
       "      <th>58</th>\n",
       "      <td>2011-10-25</td>\n",
       "      <td>-0.775049</td>\n",
       "      <td>-0.573579</td>\n",
       "      <td>14.465357</td>\n",
       "      <td>14.519643</td>\n",
       "      <td>14.192143</td>\n",
       "      <td>14.206071</td>\n",
       "      <td>12.109508</td>\n",
       "      <td>430427200</td>\n",
       "      <td>-0.019913</td>\n",
       "      <td>1</td>\n",
       "    </tr>\n",
       "    <tr>\n",
       "      <th>59</th>\n",
       "      <td>2011-10-26</td>\n",
       "      <td>-0.696186</td>\n",
       "      <td>-0.538826</td>\n",
       "      <td>14.348571</td>\n",
       "      <td>14.376786</td>\n",
       "      <td>14.041071</td>\n",
       "      <td>14.307143</td>\n",
       "      <td>12.195664</td>\n",
       "      <td>456304800</td>\n",
       "      <td>0.007090</td>\n",
       "      <td>1</td>\n",
       "    </tr>\n",
       "    <tr>\n",
       "      <th>60</th>\n",
       "      <td>2011-10-27</td>\n",
       "      <td>-0.653957</td>\n",
       "      <td>-0.532593</td>\n",
       "      <td>14.555714</td>\n",
       "      <td>14.607143</td>\n",
       "      <td>14.353214</td>\n",
       "      <td>14.453214</td>\n",
       "      <td>12.320178</td>\n",
       "      <td>494664800</td>\n",
       "      <td>0.010158</td>\n",
       "      <td>1</td>\n",
       "    </tr>\n",
       "    <tr>\n",
       "      <th>61</th>\n",
       "      <td>2011-10-28</td>\n",
       "      <td>-0.504046</td>\n",
       "      <td>-0.525622</td>\n",
       "      <td>14.392857</td>\n",
       "      <td>14.512500</td>\n",
       "      <td>14.375357</td>\n",
       "      <td>14.462500</td>\n",
       "      <td>12.328094</td>\n",
       "      <td>322842800</td>\n",
       "      <td>0.000642</td>\n",
       "      <td>-1</td>\n",
       "    </tr>\n",
       "  </tbody>\n",
       "</table>\n",
       "<p>62 rows × 11 columns</p>\n",
       "</div>"
      ],
      "text/plain": [
       "         Date  polarity  compound       Open       High        Low      Close  \\\n",
       "0  2011-08-02  0.119418  0.045527  14.201786  14.210714  13.869643  13.889643   \n",
       "1  2011-08-03  0.225355  0.108854  13.963571  14.055357  13.651429  14.020357   \n",
       "2  2011-08-04  0.240144  0.098642  13.907500  13.975714  13.476786  13.477500   \n",
       "3  2011-08-05  0.508127  0.245211  13.587143  13.696429  12.948929  13.343571   \n",
       "4  2011-08-08  0.301410  0.106535  12.917500  13.134643  12.607857  12.614643   \n",
       "..        ...       ...       ...        ...        ...        ...        ...   \n",
       "57 2011-10-24 -0.677576 -0.482482  14.149286  14.517857  14.121429  14.491786   \n",
       "58 2011-10-25 -0.775049 -0.573579  14.465357  14.519643  14.192143  14.206071   \n",
       "59 2011-10-26 -0.696186 -0.538826  14.348571  14.376786  14.041071  14.307143   \n",
       "60 2011-10-27 -0.653957 -0.532593  14.555714  14.607143  14.353214  14.453214   \n",
       "61 2011-10-28 -0.504046 -0.525622  14.392857  14.512500  14.375357  14.462500   \n",
       "\n",
       "    Adj Close      Volume  log_return  buy/sell  \n",
       "0   11.839780   639539600   -0.019958         1  \n",
       "1   11.951200   732508000    0.009367        -1  \n",
       "2   11.488463   871407600   -0.039489        -1  \n",
       "3   11.374298  1204590800   -0.009987        -1  \n",
       "4   10.752950  1143833600   -0.056176         1  \n",
       "..        ...         ...         ...       ...  \n",
       "57  12.353058   502138000    0.032308        -1  \n",
       "58  12.109508   430427200   -0.019913         1  \n",
       "59  12.195664   456304800    0.007090         1  \n",
       "60  12.320178   494664800    0.010158         1  \n",
       "61  12.328094   322842800    0.000642        -1  \n",
       "\n",
       "[62 rows x 11 columns]"
      ]
     },
     "execution_count": 168,
     "metadata": {},
     "output_type": "execute_result"
    }
   ],
   "source": [
    "df = sentiment.merge(prices, on='Date')\n",
    "df"
   ]
  },
  {
   "cell_type": "markdown",
   "metadata": {},
   "source": [
    "### Train - Test split"
   ]
  },
  {
   "cell_type": "code",
   "execution_count": 169,
   "metadata": {},
   "outputs": [],
   "source": [
    "# df.to_csv(\"date_finale.csv\")"
   ]
  },
  {
   "cell_type": "code",
   "execution_count": 251,
   "metadata": {},
   "outputs": [],
   "source": [
    "x = np.array(df[['compound']]) #\n",
    "y = np.array(df['buy/sell'])\n",
    "\n",
    "# from sklearn.model_selection import train_test_split\n",
    "\n",
    "x_train, x_test, y_train, y_test = train_test_split(x, y, test_size = 0.2, random_state = 42)"
   ]
  },
  {
   "cell_type": "markdown",
   "metadata": {},
   "source": [
    "### Logistic Regression\n",
    "Accuracy from running only 20% Testing data against 80% Training data."
   ]
  },
  {
   "cell_type": "code",
   "execution_count": 252,
   "metadata": {},
   "outputs": [
    {
     "data": {
      "text/plain": [
       "0.3076923076923077"
      ]
     },
     "execution_count": 252,
     "metadata": {},
     "output_type": "execute_result"
    }
   ],
   "source": [
    "# from sklearn.linear_model import LogisticRegression\n",
    "\n",
    "logreg = LogisticRegression(random_state=42)\n",
    "logreg.fit(x_train, y_train)\n",
    "logreg.score(x_test, y_test)"
   ]
  },
  {
   "cell_type": "markdown",
   "metadata": {},
   "source": [
    "#### Accuracy after cross validation "
   ]
  },
  {
   "cell_type": "code",
   "execution_count": 253,
   "metadata": {},
   "outputs": [
    {
     "name": "stdout",
     "output_type": "stream",
     "text": [
      "0.53\n"
     ]
    }
   ],
   "source": [
    "logreg_cv = cross_val_score(logreg, x_train, y_train, cv=10)\n",
    "print(logreg_cv.mean())"
   ]
  },
  {
   "cell_type": "markdown",
   "metadata": {},
   "source": [
    "### Support Vector Machines (SVM) with linear kernel\n",
    "Accuracy from running only 20% Testing data against 80% Training data.\n",
    "#### kernel = 'linear'"
   ]
  },
  {
   "cell_type": "code",
   "execution_count": 254,
   "metadata": {},
   "outputs": [
    {
     "data": {
      "text/plain": [
       "0.5384615384615384"
      ]
     },
     "execution_count": 254,
     "metadata": {},
     "output_type": "execute_result"
    }
   ],
   "source": [
    "# from sklearn.svm import SVC\n",
    "\n",
    "svm_linear = SVC( kernel = 'linear')\n",
    "svm_linear.fit(x_train, y_train)\n",
    "svm_linear.score(x_test, y_test)"
   ]
  },
  {
   "cell_type": "markdown",
   "metadata": {},
   "source": [
    "#### Accuracy for 'linear' after cross validation"
   ]
  },
  {
   "cell_type": "code",
   "execution_count": 255,
   "metadata": {},
   "outputs": [
    {
     "name": "stdout",
     "output_type": "stream",
     "text": [
      "0.51\n"
     ]
    }
   ],
   "source": [
    "svm_linear_cv = cross_val_score(svm_linear, x_train, y_train, cv=10)\n",
    "print(svm_linear_cv.mean())"
   ]
  },
  {
   "cell_type": "markdown",
   "metadata": {},
   "source": [
    "### Naive Bayes\n",
    "\n",
    "Please note! A MinMaxScaler is needed to get the features in the range MultinomialNB requires. No 20/80 testing was done, only cross-validation."
   ]
  },
  {
   "cell_type": "code",
   "execution_count": 256,
   "metadata": {},
   "outputs": [],
   "source": [
    "# from sklearn.naive_bayes import MultinomialNB\n",
    "\n",
    "# from sklearn.preprocessing import MinMaxScaler\n",
    "scaler = MinMaxScaler() \n",
    "X_minmax = scaler.fit_transform(x_train)\n",
    "\n",
    "mnb = MultinomialNB()"
   ]
  },
  {
   "cell_type": "markdown",
   "metadata": {},
   "source": [
    "#### Accuracy after cross validation"
   ]
  },
  {
   "cell_type": "code",
   "execution_count": 257,
   "metadata": {},
   "outputs": [
    {
     "name": "stdout",
     "output_type": "stream",
     "text": [
      "0.53\n"
     ]
    }
   ],
   "source": [
    "mnb_cv = cross_val_score(mnb, X_minmax, y_train, cv=10) \n",
    "print(mnb_cv.mean())"
   ]
  },
  {
   "cell_type": "markdown",
   "metadata": {
    "collapsed": true
   },
   "source": [
    "## Results Summary"
   ]
  },
  {
   "cell_type": "code",
   "execution_count": 258,
   "metadata": {},
   "outputs": [
    {
     "name": "stdout",
     "output_type": "stream",
     "text": [
      "Logistic Regression: \t 0.53\n",
      "SVM linear: \t\t 0.51\n",
      "Naive Bayes: \t\t 0.53\n"
     ]
    }
   ],
   "source": [
    "print(\"Logistic Regression: \\t\", logreg_cv.mean())\n",
    "print(\"SVM linear: \\t\\t\", svm_linear_cv.mean())\n",
    "print(\"Naive Bayes: \\t\\t\", mnb_cv.mean())"
   ]
  },
  {
   "cell_type": "code",
   "execution_count": 259,
   "metadata": {},
   "outputs": [],
   "source": [
    "results = []\n",
    "cv = [logreg_cv.mean(),svm_linear_cv.mean(),mnb_cv.mean()]\n",
    "results.append(cv)"
   ]
  },
  {
   "cell_type": "code",
   "execution_count": 260,
   "metadata": {},
   "outputs": [],
   "source": [
    "results = {'0': ['LogReg', 'SVM linear', 'Naive Bayes'],\n",
    "          '1':[logreg_cv.mean(), svm_linear_cv.mean(), mnb_cv.mean()]}"
   ]
  },
  {
   "cell_type": "code",
   "execution_count": 261,
   "metadata": {
    "scrolled": true
   },
   "outputs": [],
   "source": [
    "summary = pd.DataFrame.from_dict(results)\n",
    "summary = summary.transpose()\n",
    "summary = summary.rename(index = {'0':'Model', '1':'AAL'}) "
   ]
  },
  {
   "cell_type": "code",
   "execution_count": 262,
   "metadata": {},
   "outputs": [
    {
     "data": {
      "text/html": [
       "<div>\n",
       "<style scoped>\n",
       "    .dataframe tbody tr th:only-of-type {\n",
       "        vertical-align: middle;\n",
       "    }\n",
       "\n",
       "    .dataframe tbody tr th {\n",
       "        vertical-align: top;\n",
       "    }\n",
       "\n",
       "    .dataframe thead th {\n",
       "        text-align: right;\n",
       "    }\n",
       "</style>\n",
       "<table border=\"1\" class=\"dataframe\">\n",
       "  <thead>\n",
       "    <tr style=\"text-align: right;\">\n",
       "      <th></th>\n",
       "      <th>0</th>\n",
       "      <th>1</th>\n",
       "      <th>2</th>\n",
       "    </tr>\n",
       "  </thead>\n",
       "  <tbody>\n",
       "    <tr>\n",
       "      <th>Model</th>\n",
       "      <td>LogReg</td>\n",
       "      <td>SVM linear</td>\n",
       "      <td>Naive Bayes</td>\n",
       "    </tr>\n",
       "    <tr>\n",
       "      <th>AAL</th>\n",
       "      <td>0.53</td>\n",
       "      <td>0.51</td>\n",
       "      <td>0.53</td>\n",
       "    </tr>\n",
       "  </tbody>\n",
       "</table>\n",
       "</div>"
      ],
      "text/plain": [
       "            0           1            2\n",
       "Model  LogReg  SVM linear  Naive Bayes\n",
       "AAL      0.53        0.51         0.53"
      ]
     },
     "execution_count": 262,
     "metadata": {},
     "output_type": "execute_result"
    }
   ],
   "source": [
    "summary"
   ]
  },
  {
   "cell_type": "code",
   "execution_count": null,
   "metadata": {},
   "outputs": [],
   "source": []
  }
 ],
 "metadata": {
  "kernelspec": {
   "display_name": "Python 3 (ipykernel)",
   "language": "python",
   "name": "python3"
  },
  "language_info": {
   "codemirror_mode": {
    "name": "ipython",
    "version": 3
   },
   "file_extension": ".py",
   "mimetype": "text/x-python",
   "name": "python",
   "nbconvert_exporter": "python",
   "pygments_lexer": "ipython3",
   "version": "3.9.13"
  }
 },
 "nbformat": 4,
 "nbformat_minor": 2
}
