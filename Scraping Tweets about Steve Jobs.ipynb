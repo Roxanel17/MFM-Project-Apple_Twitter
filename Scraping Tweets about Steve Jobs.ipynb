{
 "cells": [
  {
   "cell_type": "code",
   "execution_count": 1,
   "id": "61aba4b7",
   "metadata": {},
   "outputs": [],
   "source": [
    "import snscrape.modules.twitter as sntwitter\n",
    "import pandas as pd"
   ]
  },
  {
   "cell_type": "code",
   "execution_count": 3,
   "id": "bd6dc32e",
   "metadata": {},
   "outputs": [
    {
     "name": "stderr",
     "output_type": "stream",
     "text": [
      "/var/folders/yv/j0g0g70d35zb6gycr0585f9c0000gn/T/ipykernel_3838/2210639979.py:16: FutureWarning: username is deprecated, use user.username instead\n",
      "  tweets.append([tweet.date, tweet.username,tweet.content])\n",
      "/var/folders/yv/j0g0g70d35zb6gycr0585f9c0000gn/T/ipykernel_3838/2210639979.py:16: FutureWarning: content is deprecated, use rawContent instead\n",
      "  tweets.append([tweet.date, tweet.username,tweet.content])\n"
     ]
    }
   ],
   "source": [
    "import snscrape.modules.twitter as sntwitter\n",
    "import pandas as pd\n",
    "\n",
    "query = \"Steve Jobs left since:2011-09-01 until:2011-09-30\"\n",
    "tweets = []\n",
    "limit = 10000\n",
    "\n",
    "\n",
    "for tweet in sntwitter.TwitterSearchScraper(query).get_items():\n",
    "    \n",
    "    # print(vars(tweet))\n",
    "    # break\n",
    "    if len(tweets) == limit:\n",
    "        break\n",
    "    else:\n",
    "        tweets.append([tweet.date, tweet.username,tweet.content])\n",
    "        \n",
    "df = pd.DataFrame(tweets, columns=['Date', 'User', 'Tweet'])\n",
    "#print(df)\n",
    "# to save to csv\n",
    "df.to_csv('SteveJobs_tweets_sep.10_all.csv')"
   ]
  },
  {
   "cell_type": "code",
   "execution_count": 7,
   "id": "e7ab14bc",
   "metadata": {},
   "outputs": [
    {
     "name": "stderr",
     "output_type": "stream",
     "text": [
      "/var/folders/yv/j0g0g70d35zb6gycr0585f9c0000gn/T/ipykernel_10294/2377701180.py:8: FutureWarning: username is deprecated, use user.username instead\n",
      "  tweets.append([tweet.date, tweet.username, tweet.content])\n",
      "/var/folders/yv/j0g0g70d35zb6gycr0585f9c0000gn/T/ipykernel_10294/2377701180.py:8: FutureWarning: content is deprecated, use rawContent instead\n",
      "  tweets.append([tweet.date, tweet.username, tweet.content])\n"
     ]
    }
   ],
   "source": [
    "query_1 = \"Steve Jobs since:2011-10-01 until:2011-10-02\"\n",
    "tweets = []\n",
    "limit = 100000\n",
    "for tweet in sntwitter.TwitterSearchScraper(query_1).get_items():\n",
    "    if len(tweets) == limit:\n",
    "        break\n",
    "    else:\n",
    "        tweets.append([tweet.date, tweet.username, tweet.content])\n",
    "        \n",
    "df_1 = pd.DataFrame(tweets, columns=['Date', 'User', 'Tweet'])\n",
    "df_1.to_csv('SteveJobs_tweets_01.10.csv')"
   ]
  },
  {
   "cell_type": "code",
   "execution_count": 8,
   "id": "3c64be41",
   "metadata": {},
   "outputs": [
    {
     "name": "stderr",
     "output_type": "stream",
     "text": [
      "/var/folders/yv/j0g0g70d35zb6gycr0585f9c0000gn/T/ipykernel_10294/2779925925.py:8: FutureWarning: username is deprecated, use user.username instead\n",
      "  tweets.append([tweet.date, tweet.username, tweet.content])\n",
      "/var/folders/yv/j0g0g70d35zb6gycr0585f9c0000gn/T/ipykernel_10294/2779925925.py:8: FutureWarning: content is deprecated, use rawContent instead\n",
      "  tweets.append([tweet.date, tweet.username, tweet.content])\n"
     ]
    }
   ],
   "source": [
    "query_2 = \"Steve Jobs since:2011-10-02 until:2011-10-03\"\n",
    "tweets = []\n",
    "limit = 100000\n",
    "for tweet in sntwitter.TwitterSearchScraper(query_2).get_items():\n",
    "    if len(tweets) == limit:\n",
    "        break\n",
    "    else:\n",
    "        tweets.append([tweet.date, tweet.username, tweet.content])\n",
    "        \n",
    "df_2 = pd.DataFrame(tweets, columns=['Date', 'User', 'Tweet'])\n",
    "df_2.to_csv('SteveJobs_tweets_02.10.csv')"
   ]
  },
  {
   "cell_type": "code",
   "execution_count": 9,
   "id": "7513a3b0",
   "metadata": {},
   "outputs": [
    {
     "name": "stderr",
     "output_type": "stream",
     "text": [
      "/var/folders/yv/j0g0g70d35zb6gycr0585f9c0000gn/T/ipykernel_10294/2513152907.py:8: FutureWarning: username is deprecated, use user.username instead\n",
      "  tweets.append([tweet.date, tweet.username, tweet.content])\n",
      "/var/folders/yv/j0g0g70d35zb6gycr0585f9c0000gn/T/ipykernel_10294/2513152907.py:8: FutureWarning: content is deprecated, use rawContent instead\n",
      "  tweets.append([tweet.date, tweet.username, tweet.content])\n"
     ]
    }
   ],
   "source": [
    "query_3 = \"Steve Jobs since:2011-10-03 until:2011-10-04\"\n",
    "tweets = []\n",
    "limit = 100000\n",
    "for tweet in sntwitter.TwitterSearchScraper(query_3).get_items():\n",
    "    if len(tweets) == limit:\n",
    "        break\n",
    "    else:\n",
    "        tweets.append([tweet.date, tweet.username, tweet.content])\n",
    "        \n",
    "df_3 = pd.DataFrame(tweets, columns=['Date', 'User', 'Tweet'])\n",
    "df_3.to_csv('SteveJobs_tweets_03.10.csv')"
   ]
  },
  {
   "cell_type": "code",
   "execution_count": 10,
   "id": "e2ebde6c",
   "metadata": {},
   "outputs": [
    {
     "name": "stderr",
     "output_type": "stream",
     "text": [
      "/var/folders/yv/j0g0g70d35zb6gycr0585f9c0000gn/T/ipykernel_10294/3219710123.py:8: FutureWarning: username is deprecated, use user.username instead\n",
      "  tweets.append([tweet.date, tweet.username, tweet.content])\n",
      "/var/folders/yv/j0g0g70d35zb6gycr0585f9c0000gn/T/ipykernel_10294/3219710123.py:8: FutureWarning: content is deprecated, use rawContent instead\n",
      "  tweets.append([tweet.date, tweet.username, tweet.content])\n"
     ]
    }
   ],
   "source": [
    "query_4 = \"Steve Jobs since:2011-10-04 until:2011-10-05\"\n",
    "tweets = []\n",
    "limit = 100000\n",
    "for tweet in sntwitter.TwitterSearchScraper(query_4).get_items():\n",
    "    if len(tweets) == limit:\n",
    "        break\n",
    "    else:\n",
    "        tweets.append([tweet.date, tweet.username, tweet.content])\n",
    "        \n",
    "df_4 = pd.DataFrame(tweets, columns=['Date', 'User', 'Tweet'])\n",
    "df_4.to_csv('SteveJobs_tweets_04.10.csv')"
   ]
  },
  {
   "cell_type": "code",
   "execution_count": null,
   "id": "ae0be41e",
   "metadata": {},
   "outputs": [
    {
     "name": "stderr",
     "output_type": "stream",
     "text": [
      "/var/folders/yv/j0g0g70d35zb6gycr0585f9c0000gn/T/ipykernel_10294/3806664509.py:8: FutureWarning: username is deprecated, use user.username instead\n",
      "  tweets.append([tweet.date, tweet.username, tweet.content])\n",
      "/var/folders/yv/j0g0g70d35zb6gycr0585f9c0000gn/T/ipykernel_10294/3806664509.py:8: FutureWarning: content is deprecated, use rawContent instead\n",
      "  tweets.append([tweet.date, tweet.username, tweet.content])\n"
     ]
    }
   ],
   "source": [
    "query_5 = \"Steve Jobs since:2011-10-05 until:2011-10-06\"\n",
    "tweets = []\n",
    "limit = 100000\n",
    "for tweet in sntwitter.TwitterSearchScraper(query_5).get_items():\n",
    "    if len(tweets) == limit:\n",
    "        break\n",
    "    else:\n",
    "        tweets.append([tweet.date, tweet.username, tweet.content])\n",
    "        \n",
    "df_5 = pd.DataFrame(tweets, columns=['Date', 'User', 'Tweet'])\n",
    "df_5.to_csv('SteveJobs_tweets_05.10.csv')"
   ]
  },
  {
   "cell_type": "code",
   "execution_count": null,
   "id": "081991ea",
   "metadata": {},
   "outputs": [],
   "source": [
    "query_6 = \"Steve Jobs since:2011-10-06 until:2011-10-07\"\n",
    "tweets = []\n",
    "limit = 100000\n",
    "for tweet in sntwitter.TwitterSearchScraper(query_6).get_items():\n",
    "    if len(tweets) == limit:\n",
    "        break\n",
    "    else:\n",
    "        tweets.append([tweet.date, tweet.username, tweet.content])\n",
    "        \n",
    "df_6 = pd.DataFrame(tweets, columns=['Date', 'User', 'Tweet'])\n",
    "df_6.to_csv('SteveJobs_tweets_06.10.csv')"
   ]
  },
  {
   "cell_type": "code",
   "execution_count": null,
   "id": "bea81d6c",
   "metadata": {},
   "outputs": [],
   "source": [
    "query_7 = \"Steve Jobs since:2011-10-07 until:2011-10-08\"\n",
    "tweets = []\n",
    "limit = 100000\n",
    "for tweet in sntwitter.TwitterSearchScraper(query_7).get_items():\n",
    "    if len(tweets) == limit:\n",
    "        break\n",
    "    else:\n",
    "        tweets.append([tweet.date, tweet.username, tweet.content])\n",
    "        \n",
    "df_7 = pd.DataFrame(tweets, columns=['Date', 'User', 'Tweet'])\n",
    "df_7.to_csv('SteveJobs_tweets_07.10.csv')"
   ]
  },
  {
   "cell_type": "code",
   "execution_count": null,
   "id": "6b730761",
   "metadata": {},
   "outputs": [],
   "source": [
    "query_8 = \"Steve Jobs since:2011-10-08 until:2011-10-09\"\n",
    "tweets = []\n",
    "limit = 100000\n",
    "for tweet in sntwitter.TwitterSearchScraper(query_8).get_items():\n",
    "    if len(tweets) == limit:\n",
    "        break\n",
    "    else:\n",
    "        tweets.append([tweet.date, tweet.username, tweet.content])\n",
    "        \n",
    "df_8 = pd.DataFrame(tweets, columns=['Date', 'User', 'Tweet'])\n",
    "df_8.to_csv('SteveJobs_tweets_08.10.csv')"
   ]
  },
  {
   "cell_type": "code",
   "execution_count": null,
   "id": "f4e8503c",
   "metadata": {},
   "outputs": [],
   "source": [
    "query_9 = \"Steve Jobs since:2011-10-09 until:2011-10-10\"\n",
    "tweets = []\n",
    "limit = 100000\n",
    "for tweet in sntwitter.TwitterSearchScraper(query_9).get_items():\n",
    "    if len(tweets) == limit:\n",
    "        break\n",
    "    else:\n",
    "        tweets.append([tweet.date, tweet.username, tweet.content])\n",
    "        \n",
    "df_9 = pd.DataFrame(tweets, columns=['Date', 'User', 'Tweet'])\n",
    "df_9.to_csv('SteveJobs_tweets_09.10.csv')"
   ]
  },
  {
   "cell_type": "code",
   "execution_count": null,
   "id": "ea6041be",
   "metadata": {},
   "outputs": [],
   "source": [
    "query_10 = \"Steve Jobs since:2011-10-10 until:2011-10-11\"\n",
    "tweets = []\n",
    "limit = 100000\n",
    "for tweet in sntwitter.TwitterSearchScraper(query_10).get_items():\n",
    "    if len(tweets) == limit:\n",
    "        break\n",
    "    else:\n",
    "        tweets.append([tweet.date, tweet.username, tweet.content])\n",
    "        \n",
    "df_10 = pd.DataFrame(tweets, columns=['Date', 'User', 'Tweet'])\n",
    "df_10.to_csv('SteveJobs_tweets_10.10.csv')"
   ]
  },
  {
   "cell_type": "code",
   "execution_count": null,
   "id": "c14c9e1a",
   "metadata": {},
   "outputs": [],
   "source": [
    "query_11 = \"Steve Jobs since:2011-10-11 until:2011-10-12\"\n",
    "tweets = []\n",
    "limit = 100000\n",
    "for tweet in sntwitter.TwitterSearchScraper(quequery_11ry_2).get_items():\n",
    "    if len(tweets) == limit:\n",
    "        break\n",
    "    else:\n",
    "        tweets.append([tweet.date, tweet.username, tweet.content])\n",
    "        \n",
    "df_11 = pd.DataFrame(tweets, columns=['Date', 'User', 'Tweet'])\n",
    "df_11.to_csv('SteveJobs_tweets_11.10.csv')"
   ]
  },
  {
   "cell_type": "code",
   "execution_count": null,
   "id": "6d4dbe65",
   "metadata": {},
   "outputs": [],
   "source": [
    "query_12 = \"Steve Jobs since:2011-10-12 until:2011-10-13\"\n",
    "tweets = []\n",
    "limit = 100000\n",
    "for tweet in sntwitter.TwitterSearchScraper(query_12).get_items():\n",
    "    if len(tweets) == limit:\n",
    "        break\n",
    "    else:\n",
    "        tweets.append([tweet.date, tweet.username, tweet.content])\n",
    "        \n",
    "df_12 = pd.DataFrame(tweets, columns=['Date', 'User', 'Tweet'])\n",
    "df_12.to_csv('SteveJobs_tweets_12.10.csv')"
   ]
  },
  {
   "cell_type": "code",
   "execution_count": null,
   "id": "28a13ad7",
   "metadata": {},
   "outputs": [],
   "source": [
    "query_13 = \"Steve Jobs since:2011-10-13 until:2011-10-14\"\n",
    "tweets = []\n",
    "limit = 100000\n",
    "for tweet in sntwitter.TwitterSearchScraper(query_13).get_items():\n",
    "    if len(tweets) == limit:\n",
    "        break\n",
    "    else:\n",
    "        tweets.append([tweet.date, tweet.username, tweet.content])\n",
    "        \n",
    "df_13 = pd.DataFrame(tweets, columns=['Date', 'User', 'Tweet'])\n",
    "df_13.to_csv('SteveJobs_tweets_13.10.csv')"
   ]
  },
  {
   "cell_type": "code",
   "execution_count": null,
   "id": "8a10deae",
   "metadata": {},
   "outputs": [],
   "source": [
    "query_14 = \"Steve Jobs since:2011-10-14 until:2011-10-15\"\n",
    "tweets = []\n",
    "limit = 100000\n",
    "for tweet in sntwitter.TwitterSearchScraper(query_14).get_items():\n",
    "    if len(tweets) == limit:\n",
    "        break\n",
    "    else:\n",
    "        tweets.append([tweet.date, tweet.username, tweet.content])\n",
    "        \n",
    "df_14 = pd.DataFrame(tweets, columns=['Date', 'User', 'Tweet'])\n",
    "df_14.to_csv('SteveJobs_tweets_14.10.csv')"
   ]
  },
  {
   "cell_type": "code",
   "execution_count": null,
   "id": "bf8d9621",
   "metadata": {},
   "outputs": [],
   "source": [
    "query_15 = \"Steve Jobs since:2011-10-15 until:2011-10-16\"\n",
    "tweets = []\n",
    "limit = 100000\n",
    "for tweet in sntwitter.TwitterSearchScraper(query_15).get_items():\n",
    "    if len(tweets) == limit:\n",
    "        break\n",
    "    else:\n",
    "        tweets.append([tweet.date, tweet.username, tweet.content])\n",
    "        \n",
    "df_15 = pd.DataFrame(tweets, columns=['Date', 'User', 'Tweet'])\n",
    "df_15.to_csv('SteveJobs_tweets_15.10.csv')"
   ]
  },
  {
   "cell_type": "code",
   "execution_count": null,
   "id": "d3610a7a",
   "metadata": {},
   "outputs": [],
   "source": [
    "query_16 = \"Steve Jobs since:2011-10-16 until:2011-10-17\"\n",
    "tweets = []\n",
    "limit = 100000\n",
    "for tweet in sntwitter.TwitterSearchScraper(query_16).get_items():\n",
    "    if len(tweets) == limit:\n",
    "        break\n",
    "    else:\n",
    "        tweets.append([tweet.date, tweet.username, tweet.content])\n",
    "        \n",
    "df_16 = pd.DataFrame(tweets, columns=['Date', 'User', 'Tweet'])\n",
    "df_16.to_csv('SteveJobs_tweets_16.10.csv')"
   ]
  },
  {
   "cell_type": "code",
   "execution_count": null,
   "id": "643d636f",
   "metadata": {},
   "outputs": [],
   "source": [
    "query_17 = \"Steve Jobs since:2011-10-17 until:2011-10-18\"\n",
    "tweets = []\n",
    "limit = 100000\n",
    "for tweet in sntwitter.TwitterSearchScraper(query_17).get_items():\n",
    "    if len(tweets) == limit:\n",
    "        break\n",
    "    else:\n",
    "        tweets.append([tweet.date, tweet.username, tweet.content])\n",
    "        \n",
    "df_17 = pd.DataFrame(tweets, columns=['Date', 'User', 'Tweet'])\n",
    "df_17.to_csv('SteveJobs_tweets_17.10.csv')"
   ]
  },
  {
   "cell_type": "code",
   "execution_count": null,
   "id": "2f1eb349",
   "metadata": {},
   "outputs": [],
   "source": [
    "query_18 = \"Steve Jobs since:2011-10-18 until:2011-10-19\"\n",
    "tweets = []\n",
    "limit = 100000\n",
    "for tweet in sntwitter.TwitterSearchScraper(query_18).get_items():\n",
    "    if len(tweets) == limit:\n",
    "        break\n",
    "    else:\n",
    "        tweets.append([tweet.date, tweet.username, tweet.content])\n",
    "        \n",
    "df_18 = pd.DataFrame(tweets, columns=['Date', 'User', 'Tweet'])\n",
    "df_18.to_csv('SteveJobs_tweets_18.10.csv')"
   ]
  },
  {
   "cell_type": "code",
   "execution_count": null,
   "id": "0e28aed6",
   "metadata": {},
   "outputs": [],
   "source": [
    "query_19 = \"Steve Jobs since:2011-10-19 until:2011-10-20\"\n",
    "tweets = []\n",
    "limit = 100000\n",
    "for tweet in sntwitter.TwitterSearchScraper(query_19).get_items():\n",
    "    if len(tweets) == limit:\n",
    "        break\n",
    "    else:\n",
    "        tweets.append([tweet.date, tweet.username, tweet.content])\n",
    "        \n",
    "df_19 = pd.DataFrame(tweets, columns=['Date', 'User', 'Tweet'])\n",
    "df_19.to_csv('SteveJobs_tweets_19.10.csv')"
   ]
  },
  {
   "cell_type": "code",
   "execution_count": null,
   "id": "abbdb644",
   "metadata": {},
   "outputs": [],
   "source": [
    "query_20 = \"Steve Jobs since:2011-10-20 until:2011-10-21\"\n",
    "tweets = []\n",
    "limit = 100000\n",
    "for tweet in sntwitter.TwitterSearchScraper(query_20).get_items():\n",
    "    if len(tweets) == limit:\n",
    "        break\n",
    "    else:\n",
    "        tweets.append([tweet.date, tweet.username, tweet.content])\n",
    "        \n",
    "df_20 = pd.DataFrame(tweets, columns=['Date', 'User', 'Tweet'])\n",
    "df_20.to_csv('SteveJobs_tweets_20.10.csv')"
   ]
  },
  {
   "cell_type": "code",
   "execution_count": null,
   "id": "3e0c8726",
   "metadata": {},
   "outputs": [],
   "source": [
    "query_21 = \"Steve Jobs since:2011-10-21 until:2011-10-22\"\n",
    "tweets = []\n",
    "limit = 100000\n",
    "for tweet in sntwitter.TwitterSearchScraper(query_21).get_items():\n",
    "    if len(tweets) == limit:\n",
    "        break\n",
    "    else:\n",
    "        tweets.append([tweet.date, tweet.username, tweet.content])\n",
    "        \n",
    "df_21 = pd.DataFrame(tweets, columns=['Date', 'User', 'Tweet'])\n",
    "df_21.to_csv('SteveJobs_tweets_21.10.csv')"
   ]
  },
  {
   "cell_type": "code",
   "execution_count": null,
   "id": "bb1d21e4",
   "metadata": {},
   "outputs": [],
   "source": [
    "query_22 = \"Steve Jobs since:2011-10-22 until:2011-10-23\"\n",
    "tweets = []\n",
    "limit = 100000\n",
    "for tweet in sntwitter.TwitterSearchScraper(query_22).get_items():\n",
    "    if len(tweets) == limit:\n",
    "        break\n",
    "    else:\n",
    "        tweets.append([tweet.date, tweet.username, tweet.content])\n",
    "        \n",
    "df_22 = pd.DataFrame(tweets, columns=['Date', 'User', 'Tweet'])\n",
    "df_22.to_csv('SteveJobs_tweets_22.10.csv')"
   ]
  },
  {
   "cell_type": "code",
   "execution_count": null,
   "id": "7f81a6c7",
   "metadata": {},
   "outputs": [],
   "source": [
    "query_23 = \"Steve Jobs since:2011-10-23 until:2011-10-24\"\n",
    "tweets = []\n",
    "limit = 100000\n",
    "for tweet in sntwitter.TwitterSearchScraper(query_23).get_items():\n",
    "    if len(tweets) == limit:\n",
    "        break\n",
    "    else:\n",
    "        tweets.append([tweet.date, tweet.username, tweet.content])\n",
    "        \n",
    "df_23 = pd.DataFrame(tweets, columns=['Date', 'User', 'Tweet'])\n",
    "df_23.to_csv('SteveJobs_tweets_23.10.csv')"
   ]
  },
  {
   "cell_type": "code",
   "execution_count": null,
   "id": "c984d2cc",
   "metadata": {},
   "outputs": [],
   "source": [
    "query_24 = \"Steve Jobs since:2011-10-24 until:2011-10-25\"\n",
    "tweets = []\n",
    "limit = 100000\n",
    "for tweet in sntwitter.TwitterSearchScraper(query_24).get_items():\n",
    "    if len(tweets) == limit:\n",
    "        break\n",
    "    else:\n",
    "        tweets.append([tweet.date, tweet.username, tweet.content])\n",
    "        \n",
    "df_24 = pd.DataFrame(tweets, columns=['Date', 'User', 'Tweet'])\n",
    "df_24.to_csv('SteveJobs_tweets_24.10.csv')"
   ]
  },
  {
   "cell_type": "code",
   "execution_count": null,
   "id": "ac3de66f",
   "metadata": {},
   "outputs": [],
   "source": [
    "query_25 = \"Steve Jobs since:2011-10-25 until:2011-10-26\"\n",
    "tweets = []\n",
    "limit = 100000\n",
    "for tweet in sntwitter.TwitterSearchScraper(query_25).get_items():\n",
    "    if len(tweets) == limit:\n",
    "        break\n",
    "    else:\n",
    "        tweets.append([tweet.date, tweet.username, tweet.content])\n",
    "        \n",
    "df_25 = pd.DataFrame(tweets, columns=['Date', 'User', 'Tweet'])\n",
    "df_25.to_csv('SteveJobs_tweets_25.10.csv')"
   ]
  },
  {
   "cell_type": "code",
   "execution_count": null,
   "id": "9e9dfb2f",
   "metadata": {},
   "outputs": [],
   "source": [
    "query_26 = \"Steve Jobs since:2011-10-26 until:2011-10-27\"\n",
    "tweets = []\n",
    "limit = 100000\n",
    "for tweet in sntwitter.TwitterSearchScraper(query_26).get_items():\n",
    "    if len(tweets) == limit:\n",
    "        break\n",
    "    else:\n",
    "        tweets.append([tweet.date, tweet.username, tweet.content])\n",
    "        \n",
    "df_26 = pd.DataFrame(tweets, columns=['Date', 'User', 'Tweet'])\n",
    "df_26.to_csv('SteveJobs_tweets_26.10.csv')"
   ]
  },
  {
   "cell_type": "code",
   "execution_count": null,
   "id": "666c3164",
   "metadata": {},
   "outputs": [],
   "source": [
    "query_27 = \"Steve Jobs since:2011-10-27 until:2011-10-28\"\n",
    "tweets = []\n",
    "limit = 100000\n",
    "for tweet in sntwitter.TwitterSearchScraper(query_27).get_items():\n",
    "    if len(tweets) == limit:\n",
    "        break\n",
    "    else:\n",
    "        tweets.append([tweet.date, tweet.username, tweet.content])\n",
    "        \n",
    "df_27 = pd.DataFrame(tweets, columns=['Date', 'User', 'Tweet'])\n",
    "df_27.to_csv('SteveJobs_tweets_27.10.csv')"
   ]
  },
  {
   "cell_type": "code",
   "execution_count": null,
   "id": "934e196e",
   "metadata": {},
   "outputs": [],
   "source": [
    "query_28 = \"Steve Jobs since:2011-10-28 until:2011-10-29\"\n",
    "tweets = []\n",
    "limit = 100000\n",
    "for tweet in sntwitter.TwitterSearchScraper(query_28).get_items():\n",
    "    if len(tweets) == limit:\n",
    "        break\n",
    "    else:\n",
    "        tweets.append([tweet.date, tweet.username, tweet.content])\n",
    "        \n",
    "df_28 = pd.DataFrame(tweets, columns=['Date', 'User', 'Tweet'])\n",
    "df_28.to_csv('SteveJobs_tweets_28.10.csv')"
   ]
  },
  {
   "cell_type": "code",
   "execution_count": null,
   "id": "305f7f12",
   "metadata": {},
   "outputs": [],
   "source": [
    "query_29 = \"Steve Jobs since:2011-10-29 until:2011-10-30\"\n",
    "tweets = []\n",
    "limit = 100000\n",
    "for tweet in sntwitter.TwitterSearchScraper(query_29).get_items():\n",
    "    if len(tweets) == limit:\n",
    "        break\n",
    "    else:\n",
    "        tweets.append([tweet.date, tweet.username, tweet.content])\n",
    "        \n",
    "df_29 = pd.DataFrame(tweets, columns=['Date', 'User', 'Tweet'])\n",
    "df_29.to_csv('SteveJobs_tweets_29.10.csv')"
   ]
  },
  {
   "cell_type": "code",
   "execution_count": null,
   "id": "ebaf3971",
   "metadata": {},
   "outputs": [],
   "source": [
    "query_30 = \"Steve Jobs since:2011-10-30 until:2011-10-31\"\n",
    "tweets = []\n",
    "limit = 100000\n",
    "for tweet in sntwitter.TwitterSearchScraper(query_30).get_items():\n",
    "    if len(tweets) == limit:\n",
    "        break\n",
    "    else:\n",
    "        tweets.append([tweet.date, tweet.username, tweet.content])\n",
    "        \n",
    "df_30 = pd.DataFrame(tweets, columns=['Date', 'User', 'Tweet'])\n",
    "df_30.to_csv('SteveJobs_tweets_30.10.csv')"
   ]
  },
  {
   "cell_type": "code",
   "execution_count": null,
   "id": "a61b6e74",
   "metadata": {},
   "outputs": [],
   "source": [
    "query_31 = \"Steve Jobs since:2011-10-31 until:2011-11-01\"\n",
    "tweets = []\n",
    "limit = 100000\n",
    "for tweet in sntwitter.TwitterSearchScraper(query_31).get_items():\n",
    "    if len(tweets) == limit:\n",
    "        break\n",
    "    else:\n",
    "        tweets.append([tweet.date, tweet.username, tweet.content])\n",
    "        \n",
    "df_31 = pd.DataFrame(tweets, columns=['Date', 'User', 'Tweet'])\n",
    "df_31.to_csv('SteveJobs_tweets_31.10.csv')"
   ]
  }
 ],
 "metadata": {
  "kernelspec": {
   "display_name": "Python 3 (ipykernel)",
   "language": "python",
   "name": "python3"
  },
  "language_info": {
   "codemirror_mode": {
    "name": "ipython",
    "version": 3
   },
   "file_extension": ".py",
   "mimetype": "text/x-python",
   "name": "python",
   "nbconvert_exporter": "python",
   "pygments_lexer": "ipython3",
   "version": "3.8.13"
  }
 },
 "nbformat": 4,
 "nbformat_minor": 5
}
